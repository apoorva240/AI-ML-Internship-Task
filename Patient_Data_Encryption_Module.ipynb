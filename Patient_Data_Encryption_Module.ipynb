{
  "nbformat": 4,
  "nbformat_minor": 0,
  "metadata": {
    "colab": {
      "provenance": []
    },
    "kernelspec": {
      "name": "python3",
      "display_name": "Python 3"
    },
    "language_info": {
      "name": "python"
    }
  },
  "cells": [
    {
      "cell_type": "code",
      "source": [
        "from cryptography.fernet import Fernet\n",
        "import json\n",
        "\n",
        "class PatientDataEncryption:\n",
        "    def __init__(self, key=None):\n",
        "        if key is None:\n",
        "\n",
        "            self.key = Fernet.generate_key()\n",
        "        else:\n",
        "            self.key = key\n",
        "\n",
        "        # Create a Fernet cipher with the key\n",
        "        self.cipher = Fernet(self.key)\n",
        "\n",
        "    def encrypt_data(self, data):\n",
        "        # Encrypt data\n",
        "        encrypted_data = self.cipher.encrypt(json.dumps(data).encode())\n",
        "        return encrypted_data\n",
        "\n",
        "    def decrypt_data(self, encrypted_data):\n",
        "        # Decrypt data\n",
        "        decrypted_data = json.loads(self.cipher.decrypt(encrypted_data).decode())\n",
        "        return decrypted_data\n",
        "\n",
        "class PatientDatabase:\n",
        "    def __init__(self):\n",
        "        self.patients = []\n",
        "\n",
        "    def add_patient(self, patient_data):\n",
        "        self.patients.append(patient_data)\n",
        "\n",
        "    def display_patients(self):\n",
        "        print(\"Patients in the Database:\")\n",
        "        for patient in self.patients:\n",
        "            print(patient)\n",
        "        print(\"\\n\")\n",
        "\n",
        "# Example Usage\n",
        "if __name__ == \"__main__\":\n",
        "    # Create an instance of the encryption module\n",
        "    encryption_module = PatientDataEncryption()\n",
        "\n",
        "    # Create an instance of the patient database\n",
        "    patient_database = PatientDatabase()\n",
        "\n",
        "    # Sample patient data\n",
        "    patient1_data = {\n",
        "        \"name\": \"Mahira Rathore\",\n",
        "        \"age\": 30,\n",
        "        \"gender\": \"Male\",\n",
        "        \"phone\": \"979-456-999\",\n",
        "        \"diagnosis\": \"Type 2 Diabetes\",\n",
        "    }\n",
        "\n",
        "    # Sample patient data\n",
        "    patient2_data = {\n",
        "        \"name\": \"Athira Hussain\",\n",
        "        \"age\": 25,\n",
        "        \"gender\": \"Female\",\n",
        "        \"phone\": \"987-654-9955\",\n",
        "        \"diagnosis\": \"Hypertension and High Cholesterol\",\n",
        "    }\n",
        "\n",
        "    # Encrypt and add patient data to the database\n",
        "    encrypted_patient1_data = {key: encryption_module.encrypt_data(patient1_data[key]) for key in patient1_data}\n",
        "    patient_database.add_patient(encrypted_patient1_data)\n",
        "\n",
        "    encrypted_patient2_data = {key: encryption_module.encrypt_data(patient2_data[key]) for key in patient2_data}\n",
        "    patient_database.add_patient(encrypted_patient2_data)\n",
        "\n",
        "    # Display the encrypted patient data in the database\n",
        "    patient_database.display_patients()\n",
        "\n",
        "    # Decrypt and display patient data\n",
        "    decrypted_patient1_data = {key: encryption_module.decrypt_data(encrypted_patient1_data[key]) for key in encrypted_patient1_data}\n",
        "    decrypted_patient2_data = {key: encryption_module.decrypt_data(encrypted_patient2_data[key]) for key in encrypted_patient2_data}\n",
        "\n",
        "    print(\"Decrypted Patient Data 1:\", decrypted_patient1_data)\n",
        "    print(\"Decrypted Patient Data 2:\", decrypted_patient2_data)\n"
      ],
      "metadata": {
        "colab": {
          "base_uri": "https://localhost:8080/"
        },
        "id": "8BaLJ6kcfdcM",
        "outputId": "1be2ed2d-d321-4d38-bdb4-bff6cd983751"
      },
      "execution_count": 4,
      "outputs": [
        {
          "output_type": "stream",
          "name": "stdout",
          "text": [
            "Patients in the Database:\n",
            "{'name': b'gAAAAABlYvQEwyCQobZItQegbEJJs_cN_YWiqD0KBlXymZ0Qgo6ZSxSf-5QKs_W-dZFTtxfFRsa26ZM6JYPnCJCOHqUVMjew1U_89zI81imC5pTvO_6byN0=', 'age': b'gAAAAABlYvQEiMndhu_9CZb_BNcMqeRjOXhdodkwBCatz2eTqrapN9X5JC3SjimVzsD5sARujUI_DxmJFCPajBYJYrhb-1WAtw==', 'gender': b'gAAAAABlYvQEWccuBaDkDwspxfkzyM6TExD3I9Sfd8c_wzPBWmXXMXMK1OtftfOZVLId0AsFwDrg85pda4sMBI6nladlHXu0Vw==', 'phone': b'gAAAAABlYvQEvHpkiZvY501_AbjbslIpeBqSLL3KbHxoqP8_b4tp0e_GMxreG8sSBA5SEGoSEe_N9-oPxiaRDzGm7uiBtUyHXg==', 'diagnosis': b'gAAAAABlYvQECN7e5EjhPKoD1lxZ_dHSpruG6qKGNmXoOKvHGQt-hrrUSUJXsHyyoJTdul6qN4nrRsepcOdUbH2q0yLW_5EGqXlZgdK2fQtJzjJ3wjzC-T0='}\n",
            "{'name': b'gAAAAABlYvQEAAf0yJx-Ivq2p6htxVnQksRZDv3mh4JlmBQXmVph4nNJ7n85YYbTbX4Tb2Pq4ACDhNREuKrg6nXioq7aSjz9IzVD7bP9AIH22PbTFz-etvk=', 'age': b'gAAAAABlYvQEURaIu5dR2bPRm9jQbCby2WPDVUFjlWt2WvU4IUQG9CtYLe5ZhacWGsMtuIwrGQL3mzzYmnOu7eU1fqyMVd7EiA==', 'gender': b'gAAAAABlYvQEHrohZae_0sB2VKApVcqpDJsO6Q9hjd4T7ILNvoL6TUQOEAOCG-S4ZErYEAZgawWtKG-T4hjcNdRqhf1hhPzn4A==', 'phone': b'gAAAAABlYvQEaSoh0-eIBDdtYMT0aRqOXSkbg8bw-7MXNroPq5Hs3CkmsJWDNH1z9AUZfKzo5qpRzou8VtKYHcEYFNOVdoocYw==', 'diagnosis': b'gAAAAABlYvQEBpj53_nUjIhjHDZ_Y63Vv6Sv81edpiwUuImDQl-eVK8sYVPdUTid_BIj4rGQUOZTcl6k3iDsekcDMgUz1Ig3n1wmJo0ijVmIqnpyswYBiP7X5ulBLpnqDe8rBWSAwbyF'}\n",
            "\n",
            "\n",
            "Decrypted Patient Data 1: {'name': 'Mahira Rathore', 'age': 30, 'gender': 'Male', 'phone': '979-456-999', 'diagnosis': 'Type 2 Diabetes'}\n",
            "Decrypted Patient Data 2: {'name': 'Athira Hussain', 'age': 25, 'gender': 'Female', 'phone': '987-654-9955', 'diagnosis': 'Hypertension and High Cholesterol'}\n"
          ]
        }
      ]
    },
    {
      "cell_type": "code",
      "source": [],
      "metadata": {
        "id": "Q25alWHbft-6"
      },
      "execution_count": null,
      "outputs": []
    }
  ]
}